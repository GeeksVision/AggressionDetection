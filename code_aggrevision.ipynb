{
 "cells": [
  {
   "cell_type": "code",
   "execution_count": 1,
   "metadata": {
    "colab": {},
    "colab_type": "code",
    "id": "s2gNi3qJ2Cm0"
   },
   "outputs": [],
   "source": [
    "import glob\n",
    "import re\n",
    "import numpy as np\n",
    "import pandas as pd\n",
    "\n",
    "# Importing drive method from colab for accessing google drive\n",
    "#from google.colab import drive\n",
    "%matplotlib inline"
   ]
  },
  {
   "cell_type": "code",
   "execution_count": 2,
   "metadata": {
    "colab": {
     "base_uri": "https://localhost:8080/",
     "height": 122
    },
    "colab_type": "code",
    "id": "5RbHx6Dq0clP",
    "outputId": "42c85acb-371f-4b7a-fc8d-8933e771a9cb"
   },
   "outputs": [],
   "source": [
    "# Mounting drive\n",
    "# This will require authentication : Follow the steps as guided (to open a shared folder, make a shortcut to it in your drive!)\n",
    "#drive.mount('/content/drive')"
   ]
  },
  {
   "cell_type": "code",
   "execution_count": 3,
   "metadata": {
    "colab": {},
    "colab_type": "code",
    "id": "qtGUkzUo0jIp"
   },
   "outputs": [],
   "source": [
    "import matplotlib.pyplot as plt\n",
    "\n",
    "from sklearn.utils import shuffle\n",
    "from sklearn.model_selection import train_test_split\n",
    "import keras , os\n",
    "from keras.utils import np_utils\n",
    "from keras.models import Sequential\n",
    "from keras.layers import Dense , Activation , Dropout ,Flatten\n",
    "from keras.layers.convolutional import Conv2D\n",
    "from keras.layers.convolutional import MaxPooling2D\n",
    "from keras.metrics import categorical_accuracy\n",
    "from keras.callbacks import ModelCheckpoint\n",
    "from PIL import Image\n",
    "\n",
    "import cv2\n",
    "from keras.layers.normalization import BatchNormalization"
   ]
  },
  {
   "cell_type": "code",
   "execution_count": 4,
   "metadata": {
    "colab": {
     "base_uri": "https://localhost:8080/",
     "height": 51
    },
    "colab_type": "code",
    "id": "V2Jsu0h40xIl",
    "outputId": "00d4e9a2-d28c-4991-f67e-653b901dceef"
   },
   "outputs": [],
   "source": [
    "# folders = '/Users/ashnakhetan/Desktop/Ashna/EMPath/FacesData'\n",
    "# CATEGORIES = []\n",
    "# for folder,i in zip(folders,range(0,len(folders))):\n",
    "#     cat = re.split('(/)',folder)\n",
    "#     CATEGORIES.append(cat[-1])\n",
    "#     items = len(glob.glob(f\"/content/drive/My Drive/FacesData/{CATEGORIES[i]}/*.*\"))\n",
    "#     print (f\"{CATEGORIES[i]} has {items} images inside\")"
   ]
  },
  {
   "cell_type": "code",
   "execution_count": 5,
   "metadata": {},
   "outputs": [
    {
     "name": "stdout",
     "output_type": "stream",
     "text": [
      "neutral has 154 images\n",
      "aggression has 200 images\n"
     ]
    }
   ],
   "source": [
    "data_path ='/Users/ashnakhetan/Desktop/Ashna/EMPath/FacesData2/dataset/'\n",
    "\n",
    "for dir1 in os.listdir(data_path):\n",
    "    count=0\n",
    "    for f in os.listdir(data_path + dir1):\n",
    "        count+=1\n",
    "    print(f\"{dir1} has {count} images\")"
   ]
  },
  {
   "cell_type": "code",
   "execution_count": 6,
   "metadata": {
    "colab": {
     "base_uri": "https://localhost:8080/",
     "height": 51
    },
    "colab_type": "code",
    "id": "gaNcO7gj03_K",
    "outputId": "9dda5019-a545-49d5-86c8-5a199545f0fd"
   },
   "outputs": [
    {
     "data": {
      "text/plain": [
       "(48, 48)"
      ]
     },
     "execution_count": 6,
     "metadata": {},
     "output_type": "execute_result"
    }
   ],
   "source": [
    "import random\n",
    "folder_path=\"/Users/ashnakhetan/Desktop/Ashna/EMPath/FacesData2/dataset/aggression/\"\n",
    "a=random.choice(os.listdir(folder_path))\n",
    "plt.imread(folder_path+a).shape"
   ]
  },
  {
   "cell_type": "code",
   "execution_count": 7,
   "metadata": {
    "colab": {
     "base_uri": "https://localhost:8080/",
     "height": 34
    },
    "colab_type": "code",
    "id": "PgtElORx1HO3",
    "outputId": "9e035167-b79d-4b3b-b91d-e061b1d6ef4b"
   },
   "outputs": [
    {
     "data": {
      "text/plain": [
       "(250, 200, 3)"
      ]
     },
     "execution_count": 7,
     "metadata": {},
     "output_type": "execute_result"
    }
   ],
   "source": [
    "folder_path=\"/Users/ashnakhetan/Desktop/Ashna/EMPath/FacesData2/dataset/neutral/\"\n",
    "a=random.choice(os.listdir(folder_path))\n",
    "plt.imread(folder_path+a).shape"
   ]
  },
  {
   "cell_type": "code",
   "execution_count": 8,
   "metadata": {
    "colab": {},
    "colab_type": "code",
    "id": "UwhX8oD77JYM"
   },
   "outputs": [],
   "source": [
    "agro_path = \"/Users/ashnakhetan/Desktop/Ashna/EMPath/FacesData2/dataset/aggression/\"\n",
    "neutral_path = \"/Users/ashnakhetan/Desktop/Ashna/EMPath/FacesData2/dataset/neutral/\"\n",
    "read = lambda imname: np.asarray(Image.open(imname).convert(\"RGB\"))\n",
    "\n",
    "# Load in pictures\n",
    "ims_aggression = [read(os.path.join(agro_path, filename)) for filename in os.listdir(agro_path)]\n",
    "X_aggression = np.array(ims_aggression, dtype='uint8')\n",
    "ims_neutral = [read(os.path.join(agro_path, filename)) for filename in os.listdir(agro_path)]\n",
    "X_neutral = np.array(ims_neutral, dtype='uint8')"
   ]
  },
  {
   "cell_type": "code",
   "execution_count": 9,
   "metadata": {
    "colab": {
     "base_uri": "https://localhost:8080/",
     "height": 34
    },
    "colab_type": "code",
    "id": "OM0MyPuX7X5z",
    "outputId": "d2ffebce-1a2a-46e8-ad2f-2f1fffa87c7f"
   },
   "outputs": [
    {
     "data": {
      "text/plain": [
       "(200, 48, 48, 3)"
      ]
     },
     "execution_count": 9,
     "metadata": {},
     "output_type": "execute_result"
    }
   ],
   "source": [
    "X_aggression.shape"
   ]
  },
  {
   "cell_type": "code",
   "execution_count": 10,
   "metadata": {
    "colab": {
     "base_uri": "https://localhost:8080/",
     "height": 34
    },
    "colab_type": "code",
    "id": "alXqTqHh7seK",
    "outputId": "85a51887-1f7e-4126-eb5b-64fa74856e7b"
   },
   "outputs": [
    {
     "data": {
      "text/plain": [
       "(200, 48, 48, 3)"
      ]
     },
     "execution_count": 10,
     "metadata": {},
     "output_type": "execute_result"
    }
   ],
   "source": [
    "X_neutral.shape   #need to reize it"
   ]
  },
  {
   "cell_type": "code",
   "execution_count": 11,
   "metadata": {
    "colab": {
     "base_uri": "https://localhost:8080/",
     "height": 267
    },
    "colab_type": "code",
    "id": "EaTmzStE7uxl",
    "outputId": "bb353b97-032b-423f-a143-54aa4b32a38f"
   },
   "outputs": [
    {
     "data": {
      "image/png": "[encoded data removed]",
      "text/plain": [
       "<Figure size 432x288 with 1 Axes>"
      ]
     },
     "metadata": {
      "needs_background": "light"
     },
     "output_type": "display_data"
    }
   ],
   "source": [
    "#Make sure the images are loaded\n",
    "plt.imshow(X_aggression[2]) \n",
    "plt.show()  # display it"
   ]
  },
  {
   "cell_type": "code",
   "execution_count": 12,
   "metadata": {
    "colab": {},
    "colab_type": "code",
    "id": "Aqi80gUc70s8"
   },
   "outputs": [],
   "source": [
    "X_neutral_1=[]\n",
    "for img in range (len(X_neutral)):\n",
    "    input_img_resize=cv2.resize(X_neutral[img],(48,48))\n",
    "    X_neutral_1.append(input_img_resize)"
   ]
  },
  {
   "cell_type": "code",
   "execution_count": 13,
   "metadata": {
    "colab": {
     "base_uri": "https://localhost:8080/",
     "height": 34
    },
    "colab_type": "code",
    "id": "BVymGhBm74Io",
    "outputId": "d2d437ac-4d28-4bc4-c9e6-de0bd50558ef"
   },
   "outputs": [
    {
     "data": {
      "text/plain": [
       "(200, 48, 48, 3)"
      ]
     },
     "execution_count": 13,
     "metadata": {},
     "output_type": "execute_result"
    }
   ],
   "source": [
    "X_neutral_1=np.array(X_neutral_1)\n",
    "X_neutral_1.shape   #now we have the same size for each class with tensor"
   ]
  },
  {
   "cell_type": "code",
   "execution_count": 14,
   "metadata": {
    "colab": {
     "base_uri": "https://localhost:8080/",
     "height": 267
    },
    "colab_type": "code",
    "id": "zC18oK73766w",
    "outputId": "072edf1f-cf5c-486a-bd7f-5213dcff9409"
   },
   "outputs": [
    {
     "data": {
      "image/png": "[encoded data removed]",
      "text/plain": [
       "<Figure size 432x288 with 1 Axes>"
      ]
     },
     "metadata": {
      "needs_background": "light"
     },
     "output_type": "display_data"
    }
   ],
   "source": [
    "plt.imshow(X_neutral_1[2]) \n",
    "plt.show()  # display it"
   ]
  },
  {
   "cell_type": "code",
   "execution_count": 15,
   "metadata": {
    "colab": {},
    "colab_type": "code",
    "id": "kvj9QcDJ78pU"
   },
   "outputs": [],
   "source": [
    "# Create labels\n",
    "y_neutral = np.zeros(X_neutral_1.shape[0])\n",
    "y_aggression = np.ones(X_aggression.shape[0])"
   ]
  },
  {
   "cell_type": "code",
   "execution_count": 16,
   "metadata": {
    "colab": {},
    "colab_type": "code",
    "id": "LMWX4TDk7-RJ"
   },
   "outputs": [],
   "source": [
    "X = np.concatenate((X_neutral_1, X_aggression), axis = 0)"
   ]
  },
  {
   "cell_type": "code",
   "execution_count": 17,
   "metadata": {
    "colab": {},
    "colab_type": "code",
    "id": "uIP-B7yn7__K"
   },
   "outputs": [],
   "source": [
    "# Merge data and shuffle it\n",
    "X = np.concatenate((X_neutral_1, X_aggression), axis = 0)\n",
    "y = np.concatenate((y_neutral, y_aggression), axis = 0)\n",
    "s = np.arange(X.shape[0])\n",
    "np.random.shuffle(s)\n",
    "X = X[s]\n",
    "y = y[s]"
   ]
  },
  {
   "cell_type": "code",
   "execution_count": 18,
   "metadata": {
    "colab": {
     "base_uri": "https://localhost:8080/",
     "height": 34
    },
    "colab_type": "code",
    "id": "Dar0cntC8FjJ",
    "outputId": "5e2cf5f5-a9c9-4c30-ea3b-3d68a7084069"
   },
   "outputs": [
    {
     "data": {
      "text/plain": [
       "((400, 48, 48, 3), (400,))"
      ]
     },
     "execution_count": 18,
     "metadata": {},
     "output_type": "execute_result"
    }
   ],
   "source": [
    "X.shape,y.shape"
   ]
  },
  {
   "cell_type": "code",
   "execution_count": 19,
   "metadata": {
    "colab": {},
    "colab_type": "code",
    "id": "Ni2RusI38G70"
   },
   "outputs": [],
   "source": [
    "X_scaled = X/255\n"
   ]
  },
  {
   "cell_type": "code",
   "execution_count": 20,
   "metadata": {
    "colab": {},
    "colab_type": "code",
    "id": "MtPhTgdQ8IGn"
   },
   "outputs": [],
   "source": [
    "from keras.applications import VGG16\n",
    "import keras.utils\n",
    "IMAGE_SIZE = [48, 48] \n",
    "# loading the weights of VGG16 without the top layer. These weights are trained on Imagenet dataset.\n",
    "vgg = VGG16(input_shape = IMAGE_SIZE + [3], weights = 'imagenet', include_top = False)  # input_shape = (48,48,3) as required by VGG"
   ]
  },
  {
   "cell_type": "code",
   "execution_count": 21,
   "metadata": {
    "colab": {
     "base_uri": "https://localhost:8080/",
     "height": 51
    },
    "colab_type": "code",
    "id": "lDDNoyy38Mw1",
    "outputId": "7f538852-b7b3-497f-f70c-c9c39fd74ae7"
   },
   "outputs": [
    {
     "name": "stdout",
     "output_type": "stream",
     "text": [
      "Output_layer_type= <tensorflow.python.keras.layers.pooling.MaxPooling2D object at 0x7fefd2b31690>\n",
      "Output_layer_shape= (None, 1, 1, 512)\n"
     ]
    }
   ],
   "source": [
    "print('Output_layer_type= {}'.format(vgg.layers[-1]))\n",
    "print('Output_layer_shape= {}'.format(vgg.layers[-1].output_shape))"
   ]
  },
  {
   "cell_type": "code",
   "execution_count": 22,
   "metadata": {
    "colab": {},
    "colab_type": "code",
    "id": "RW134CBm8Qtv"
   },
   "outputs": [],
   "source": [
    "for layer in vgg.layers:\n",
    "    layer.trainable = False"
   ]
  },
  {
   "cell_type": "code",
   "execution_count": 23,
   "metadata": {
    "colab": {},
    "colab_type": "code",
    "id": "jBV80F-h8Tbc"
   },
   "outputs": [],
   "source": [
    "x = Flatten()(vgg.output)"
   ]
  },
  {
   "cell_type": "code",
   "execution_count": 24,
   "metadata": {
    "colab": {},
    "colab_type": "code",
    "id": "s1xWsQUv8UtW"
   },
   "outputs": [],
   "source": [
    "num_classes=1\n",
    "x = Dense(num_classes, activation = 'sigmoid')(x)  # adding the output layer"
   ]
  },
  {
   "cell_type": "code",
   "execution_count": 25,
   "metadata": {
    "colab": {},
    "colab_type": "code",
    "id": "IkbUMi668XqV"
   },
   "outputs": [],
   "source": [
    "from keras.models import Model\n",
    "model = Model(inputs = vgg.input, outputs = x)"
   ]
  },
  {
   "cell_type": "markdown",
   "metadata": {
    "colab_type": "text",
    "id": "i-pctI9ZBC7Q"
   },
   "source": [
    "loss function was selected is binary crossentropy:\n",
    "\n",
    "The loss function binary crossentropy is used only 2 labels yes/no decisions or 1/0, it is a sigmoid activation in the last (output) layer and it's output is a probability value take range from 0 to 1 in almost cases if the prediction more than 0.5 so the class is 1 otherwise will be 0"
   ]
  },
  {
   "cell_type": "code",
   "execution_count": 26,
   "metadata": {
    "colab": {},
    "colab_type": "code",
    "id": "dMAEXgur8ZyU"
   },
   "outputs": [],
   "source": [
    "model.compile(loss = 'binary_crossentropy', optimizer='adam', metrics=['accuracy'])"
   ]
  },
  {
   "cell_type": "code",
   "execution_count": 27,
   "metadata": {
    "colab": {
     "base_uri": "https://localhost:8080/",
     "height": 867
    },
    "colab_type": "code",
    "id": "uyF5SMhfBHf2",
    "outputId": "084e5769-3deb-4d58-bf0f-5b2c2162202c"
   },
   "outputs": [
    {
     "name": "stdout",
     "output_type": "stream",
     "text": [
      "Model: \"functional_1\"\n",
      "_________________________________________________________________\n",
      "Layer (type)                 Output Shape              Param #   \n",
      "=================================================================\n",
      "input_1 (InputLayer)         [(None, 48, 48, 3)]       0         \n",
      "_________________________________________________________________\n",
      "block1_conv1 (Conv2D)        (None, 48, 48, 64)        1792      \n",
      "_________________________________________________________________\n",
      "block1_conv2 (Conv2D)        (None, 48, 48, 64)        36928     \n",
      "_________________________________________________________________\n",
      "block1_pool (MaxPooling2D)   (None, 24, 24, 64)        0         \n",
      "_________________________________________________________________\n",
      "block2_conv1 (Conv2D)        (None, 24, 24, 128)       73856     \n",
      "_________________________________________________________________\n",
      "block2_conv2 (Conv2D)        (None, 24, 24, 128)       147584    \n",
      "_________________________________________________________________\n",
      "block2_pool (MaxPooling2D)   (None, 12, 12, 128)       0         \n",
      "_________________________________________________________________\n",
      "block3_conv1 (Conv2D)        (None, 12, 12, 256)       295168    \n",
      "_________________________________________________________________\n",
      "block3_conv2 (Conv2D)        (None, 12, 12, 256)       590080    \n",
      "_________________________________________________________________\n",
      "block3_conv3 (Conv2D)        (None, 12, 12, 256)       590080    \n",
      "_________________________________________________________________\n",
      "block3_pool (MaxPooling2D)   (None, 6, 6, 256)         0         \n",
      "_________________________________________________________________\n",
      "block4_conv1 (Conv2D)        (None, 6, 6, 512)         1180160   \n",
      "_________________________________________________________________\n",
      "block4_conv2 (Conv2D)        (None, 6, 6, 512)         2359808   \n",
      "_________________________________________________________________\n",
      "block4_conv3 (Conv2D)        (None, 6, 6, 512)         2359808   \n",
      "_________________________________________________________________\n",
      "block4_pool (MaxPooling2D)   (None, 3, 3, 512)         0         \n",
      "_________________________________________________________________\n",
      "block5_conv1 (Conv2D)        (None, 3, 3, 512)         2359808   \n",
      "_________________________________________________________________\n",
      "block5_conv2 (Conv2D)        (None, 3, 3, 512)         2359808   \n",
      "_________________________________________________________________\n",
      "block5_conv3 (Conv2D)        (None, 3, 3, 512)         2359808   \n",
      "_________________________________________________________________\n",
      "block5_pool (MaxPooling2D)   (None, 1, 1, 512)         0         \n",
      "_________________________________________________________________\n",
      "flatten (Flatten)            (None, 512)               0         \n",
      "_________________________________________________________________\n",
      "dense (Dense)                (None, 1)                 513       \n",
      "=================================================================\n",
      "Total params: 14,715,201\n",
      "Trainable params: 513\n",
      "Non-trainable params: 14,714,688\n",
      "_________________________________________________________________\n"
     ]
    }
   ],
   "source": [
    "#show connections for the data flow\n",
    "model.summary()"
   ]
  },
  {
   "cell_type": "code",
   "execution_count": 28,
   "metadata": {
    "colab": {},
    "colab_type": "code",
    "id": "9m7i0TAaBLTo"
   },
   "outputs": [],
   "source": [
    "from keras.preprocessing.image import ImageDataGenerator"
   ]
  },
  {
   "cell_type": "code",
   "execution_count": 29,
   "metadata": {
    "colab": {},
    "colab_type": "code",
    "id": "YqSoqRu9BNbC"
   },
   "outputs": [],
   "source": [
    "#Data Augmentation\n",
    "\n",
    "trainAug = ImageDataGenerator(rotation_range=30,zoom_range=0.15,width_shift_range=0.2, height_shift_range=0.2,\n",
    "                              shear_range=0.15,horizontal_flip=True)"
   ]
  },
  {
   "cell_type": "code",
   "execution_count": 30,
   "metadata": {
    "colab": {},
    "colab_type": "code",
    "id": "PgcMHxzuBPYT"
   },
   "outputs": [],
   "source": [
    "trainAug.fit(X_scaled)"
   ]
  },
  {
   "cell_type": "code",
   "execution_count": 31,
   "metadata": {
    "colab": {
     "base_uri": "https://localhost:8080/",
     "height": 85
    },
    "colab_type": "code",
    "id": "p6rv2PSKBRIs",
    "outputId": "4fd31ceb-a6d4-4424-b2df-8b8c09671f4a"
   },
   "outputs": [
    {
     "name": "stdout",
     "output_type": "stream",
     "text": [
      "X_train shape (320, 48, 48, 3)\n",
      "X_test shape (80, 48, 48, 3)\n",
      "y_train shape (320,)\n",
      "y_test shape (80,)\n"
     ]
    }
   ],
   "source": [
    "X_train,X_val,y_train,y_val=train_test_split(X_scaled,y,test_size=0.20,random_state=42)\n",
    "\n",
    "print(\"X_train shape\",X_train.shape)\n",
    "print(\"X_test shape\",X_val.shape)\n",
    "print(\"y_train shape\",y_train.shape)\n",
    "print(\"y_test shape\",y_val.shape)"
   ]
  },
  {
   "cell_type": "code",
   "execution_count": 32,
   "metadata": {
    "colab": {},
    "colab_type": "code",
    "id": "JkF01kNTBSob"
   },
   "outputs": [],
   "source": [
    "from keras.callbacks import Callback,EarlyStopping\n",
    "## Callback for loss logging per epoch\n",
    "class LossHistory(Callback):\n",
    "    def on_train_begin(self, logs={}):\n",
    "        self.losses = []\n",
    "        self.val_losses = []\n",
    "        \n",
    "    def on_epoch_end(self, batch, logs={}):\n",
    "        self.losses.append(logs.get('loss'))\n",
    "        self.val_losses.append(logs.get('val_loss'))\n",
    "\n",
    "early_stopping = EarlyStopping(monitor='val_loss', patience=3, verbose=1, mode='auto')"
   ]
  },
  {
   "cell_type": "code",
   "execution_count": 33,
   "metadata": {
    "colab": {},
    "colab_type": "code",
    "id": "GfuG7YIfBUrV"
   },
   "outputs": [],
   "source": [
    "early_stopping = EarlyStopping(monitor='val_loss', patience=3, verbose=1, mode='auto')"
   ]
  },
  {
   "cell_type": "code",
   "execution_count": 34,
   "metadata": {
    "colab": {},
    "colab_type": "code",
    "id": "d3wwdjX_BWS0"
   },
   "outputs": [],
   "source": [
    "batch_size = 32\n",
    "steps_per_epoch=len(X_train)\n",
    "validation_steps=len(y_val)"
   ]
  },
  {
   "cell_type": "code",
   "execution_count": 35,
   "metadata": {
    "colab": {},
    "colab_type": "code",
    "id": "Cl5XizEaBXtz"
   },
   "outputs": [],
   "source": [
    "def run_aggression():\n",
    "    \n",
    "    history = LossHistory()\n",
    "    model.fit(trainAug.flow(X_train,y_train, batch_size=batch_size),\n",
    "    steps_per_epoch = steps_per_epoch,\n",
    "    epochs = 5,\n",
    "    verbose = 2,\n",
    "    validation_data = (X_val,y_val),\n",
    "    validation_steps = validation_steps, callbacks=[history, early_stopping])\n",
    "    \n",
    "\n",
    "    return history"
   ]
  },
  {
   "cell_type": "code",
   "execution_count": 36,
   "metadata": {
    "colab": {
     "base_uri": "https://localhost:8080/",
     "height": 88
    },
    "colab_type": "code",
    "id": "4Ngk-ieDBZlj",
    "outputId": "f2046ff0-dff9-4291-d2e5-d43ff9ef4e75"
   },
   "outputs": [
    {
     "name": "stdout",
     "output_type": "stream",
     "text": [
      "Epoch 1/5\n",
      "WARNING:tensorflow:Your input ran out of data; interrupting training. Make sure that your dataset or generator can generate at least `steps_per_epoch * epochs` batches (in this case, 1600 batches). You may need to use the repeat() function when building your dataset.\n",
      " 10/320 - 3s - loss: 0.7744 - accuracy: 0.5125 - val_loss: 0.7872 - val_accuracy: 0.4625\n"
     ]
    }
   ],
   "source": [
    "history = run_aggression()"
   ]
  },
  {
   "cell_type": "code",
   "execution_count": 37,
   "metadata": {
    "colab": {
     "base_uri": "https://localhost:8080/",
     "height": 295
    },
    "colab_type": "code",
    "id": "3Y9sYZR7BbSL",
    "outputId": "7e44b55b-3b42-4a3c-f9c2-06ea07ab9d3d"
   },
   "outputs": [
    {
     "data": {
      "image/png": "[encoded data removed]",
      "text/plain": [
       "<Figure size 432x288 with 1 Axes>"
      ]
     },
     "metadata": {
      "needs_background": "light"
     },
     "output_type": "display_data"
    }
   ],
   "source": [
    "loss = history.losses\n",
    "val_loss = history.val_losses\n",
    "\n",
    "plt.xlabel('Epochs')\n",
    "plt.ylabel('Loss')\n",
    "plt.title('Loss Trend')\n",
    "plt.plot(loss, 'blue', label='Training Loss')\n",
    "plt.plot(val_loss, 'green', label='Validation Loss')\n",
    "plt.xticks(range(0,5)[0::2])\n",
    "plt.legend()\n",
    "plt.show()"
   ]
  },
  {
   "cell_type": "code",
   "execution_count": 38,
   "metadata": {
    "colab": {
     "base_uri": "https://localhost:8080/",
     "height": 180
    },
    "colab_type": "code",
    "id": "w9PKDRQ9Bvxa",
    "outputId": "39cdc286-0ff9-4318-b1d5-bb82d97080cf"
   },
   "outputs": [],
   "source": [
    "model.save('Agg_detect.h5')\n",
    "model.save_weights('model_weightAgg_detect.h5')"
   ]
  },
  {
   "cell_type": "code",
   "execution_count": 39,
   "metadata": {
    "colab": {},
    "colab_type": "code",
    "id": "_7MPl63tyHW7"
   },
   "outputs": [],
   "source": [
    "from keras.models import load_model\n",
    "\n",
    "model_loaded = load_model('Agg_detect.h5')"
   ]
  },
  {
   "cell_type": "code",
   "execution_count": 40,
   "metadata": {
    "colab": {},
    "colab_type": "code",
    "id": "N8TiCS4iyQA-"
   },
   "outputs": [
    {
     "name": "stdout",
     "output_type": "stream",
     "text": [
      "Aggressive\n"
     ]
    }
   ],
   "source": [
    "#test class any image here\n",
    "from keras.preprocessing import image\n",
    "\n",
    "test_image=image.load_img('/Users/ashnakhetan/Desktop/Ashna/EMPath/FacesData2/dataset/aggression/S010_002_00000012.png',target_size=(48,48))\n",
    "test_image=image.img_to_array(test_image)\n",
    "test_image=np.expand_dims(test_image,axis=0)\n",
    "result=model_loaded.predict(test_image)\n",
    "\n",
    "if result[0][0] >=0.5:\n",
    "    prediction='Aggressive'\n",
    "else:\n",
    "    prediction='Natural'\n",
    "print(prediction)"
   ]
  },
  {
   "cell_type": "code",
   "execution_count": null,
   "metadata": {
    "colab": {},
    "colab_type": "code",
    "id": "M--zPVEyyQjI"
   },
   "outputs": [],
   "source": [
    "import cv2\n",
    "face_cascade = cv2.CascadeClassifier('/Users/ashnakhetan/Desktop/Ashna/EMPath/FacesData2/haarcascade_frontalface_default.xml') # We load the cascade for the face.\n",
    "font                   = cv2.FONT_HERSHEY_SIMPLEX\n",
    "bottomLeftCornerOfText = (5,100)\n",
    "fontScale              = 1\n",
    "fontColor              = (255,255,255)\n",
    "lineType               = 2\n",
    "\n",
    "video_capture = cv2.VideoCapture(0) # We turn the webcam on.\n",
    "\n",
    "while True: # We repeat infinitely (until break):\n",
    "    _, frame = video_capture.read() # We get the last frame.\n",
    "    gray = cv2.cvtColor(frame, cv2.COLOR_BGR2GRAY) # We do some colour transformations.\n",
    "    #canvas = detectFaces(gray, frame) # We get the output of our detect function.\n",
    "    faces = face_cascade.detectMultiScale(gray,scaleFactor=1.1,minNeighbors=5,minSize=(50, 50)) # We apply the detectMultiScale method from the face cascade to locate one or several faces in the image.\n",
    "    for (x, y, w, h) in faces: # For each detected face:\n",
    "        cv2.rectangle(frame, (x, y), (x+w, y+h), (255, 0, 0), 2) # We paint a rectangle around the face without any border.\n",
    "        #roi_gray = gray[y:y+h, x:x+w] # We get the region of interest in the black and white image.\n",
    "        roi_color = frame[y:y+h, x:x+w] # We get the region of interest in the colored image.\n",
    "        #print(x, y, w, h)\n",
    "        test_image=image.img_to_array(roi_color)\n",
    "        test_image = cv2.resize(test_image, (48,48))\n",
    "        test_image=np.expand_dims(test_image,axis=0)\n",
    "        result=model_loaded.predict(test_image)\n",
    "        #result=str(result)\n",
    "        if result[0][0]>0.5:\n",
    "            prediction='Aggression'\n",
    "        else:\n",
    "            prediction='Natural'\n",
    "        cv2.putText(frame,prediction,bottomLeftCornerOfText,font,fontScale,fontColor,lineType)\n",
    "    \n",
    "        cv2.imshow('Video', frame) # We display the outputs.\n",
    "    if cv2.waitKey(1) & 0xFF == ord('q'): # If we type on the keyboard:\n",
    "        break # We stop the loop.\n",
    "\n",
    "video_capture.release() # We turn the webcam off.\n",
    "cv2.destroyAllWindows() # We destroy all the windows inside which the images were displayed."
   ]
  },
  {
   "cell_type": "code",
   "execution_count": null,
   "metadata": {
    "colab": {},
    "colab_type": "code",
    "id": "4fP779exyU_G"
   },
   "outputs": [],
   "source": [
    "def detect(gray, frame): # We create a function that takes as input the image in black and white (gray) and the original image (frame), and that will return the same image with the detector rectangles. \n",
    "    faces = face_cascade.detectMultiScale(gray,scaleFactor=1.1,minNeighbors=5,minSize=(50, 50)) # We apply the detectMultiScale method from the face cascade to locate one or several faces in the image.\n",
    "    for (x, y, w, h) in faces: # For each detected face:\n",
    "        #cv2.rectangle(frame, (x, y), (x+w, y+h), (0, 0, 0), 0) # We paint a rectangle around the face without any border.\n",
    "        #roi_gray = gray[y:y+h, x:x+w] # We get the region of interest in the black and white image.\n",
    "        roi_color = frame[y:y+h, x:x+w] # We get the region of interest in the colored image.\n",
    "        #print(x, y, w, h)\n",
    "        test_image=image.img_to_array(roi_color)\n",
    "        test_image = cv2.resize(test_image, (48,48))\n",
    "        test_image=np.expand_dims(test_image,axis=0)\n",
    "        result=model_loaded.predict(test_image)\n",
    "        if result[0][0] >=0.4:\n",
    "            prediction='Agg'\n",
    "        else:\n",
    "            prediction='Nat'\n",
    "\n",
    "        return result # We return the detector rectangles area."
   ]
  },
  {
   "cell_type": "code",
   "execution_count": null,
   "metadata": {
    "colab": {},
    "colab_type": "code",
    "id": "56ja29DVyW81"
   },
   "outputs": [],
   "source": [
    "img1 = cv2.imread('image1.png')  #pass 0 to convert into gray level \n",
    "img1=cv2.cvtColor(img1, cv2.COLOR_BGR2RGB)\n",
    "plt.imshow(img1)"
   ]
  },
  {
   "cell_type": "code",
   "execution_count": null,
   "metadata": {
    "colab": {},
    "colab_type": "code",
    "id": "HQQp3e7Dyxwu"
   },
   "outputs": [],
   "source": [
    "str(detect(gray,img1)[0][0]) # We get the output shap our detect function.)"
   ]
  },
  {
   "cell_type": "code",
   "execution_count": null,
   "metadata": {
    "colab": {},
    "colab_type": "code",
    "id": "8an8fJI5yyom"
   },
   "outputs": [],
   "source": [
    "img2= cv2.imread('image2.png')  #pass 0 to convert into gray level \n",
    "img2=cv2.cvtColor(img2, cv2.COLOR_BGR2RGB)\n",
    "plt.imshow(img2)"
   ]
  },
  {
   "cell_type": "code",
   "execution_count": null,
   "metadata": {
    "colab": {},
    "colab_type": "code",
    "id": "4lJggohry3kM"
   },
   "outputs": [],
   "source": [
    "detect(gray, img2) # We get the output shap our detect function."
   ]
  },
  {
   "cell_type": "code",
   "execution_count": null,
   "metadata": {},
   "outputs": [],
   "source": []
  },
  {
   "cell_type": "code",
   "execution_count": null,
   "metadata": {},
   "outputs": [],
   "source": []
  }
 ],
 "metadata": {
  "colab": {
   "name": "Code_GeeksVision.ipynb",
   "provenance": []
  },
  "kernelspec": {
   "display_name": "Python 3",
   "language": "python",
   "name": "python3"
  },
  "language_info": {
   "codemirror_mode": {
    "name": "ipython",
    "version": 3
   },
   "file_extension": ".py",
   "mimetype": "text/x-python",
   "name": "python",
   "nbconvert_exporter": "python",
   "pygments_lexer": "ipython3",
   "version": "3.7.6"
  }
 },
 "nbformat": 4,
 "nbformat_minor": 4
}
